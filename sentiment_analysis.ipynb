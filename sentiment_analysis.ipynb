{
 "cells": [
  {
   "cell_type": "code",
   "execution_count": 38,
   "metadata": {},
   "outputs": [],
   "source": [
    "# -*- coding: utf-8 -*-\n",
    "import tweepy\n",
    "import numpy as np\n",
    "from textblob import TextBlob"
   ]
  },
  {
   "cell_type": "code",
   "execution_count": 39,
   "metadata": {},
   "outputs": [],
   "source": [
    "consumer_key = '#mypass'\n",
    "consumer_secret = '#mypass'\n",
    "\n",
    "access_token = '#mypass'\n",
    "access_token_secret = '#mypass'"
   ]
  },
  {
   "cell_type": "code",
   "execution_count": 40,
   "metadata": {},
   "outputs": [],
   "source": [
    "auth = tweepy.OAuthHandler(consumer_key, consumer_secret)\n",
    "auth.set_access_token(access_token, access_token_secret)\n",
    "\n",
    "api = tweepy.API(auth)"
   ]
  },
  {
   "cell_type": "code",
   "execution_count": 41,
   "metadata": {},
   "outputs": [],
   "source": [
    "def tweets_analysis(query):\n",
    "    tweets = tweepy.Cursor(api.search, q=query + \" -filter:retweets\", result_type=\"recent\").items(20)\n",
    "    polarities = []\n",
    "    subjectivities = []\n",
    "    \n",
    "    for tweet in tweets:\n",
    "        phrase = TextBlob(tweet.text)\n",
    "    \n",
    "    #if not is_english(phrase):\n",
    "        #phrase = TextBlob(str(phrase.translate(to = 'en')))\n",
    "        \n",
    "        print('Tweet: ' + tweet.text)\n",
    "        print('Polarity: ' + str(phrase.sentiment.polarity) + \" \\ \" + str(phrase.sentiment.subjectivity))\n",
    "        print('.....................')\n",
    "\n",
    "        if (phrase.sentiment.polarity != 0.0 and phrase.sentiment.subjectivity != 0.0):\n",
    "            polarities.append(phrase.sentiment.polarity)\n",
    "            subjectivities.append(phrase.sentiment.subjectivity)\n",
    "        \n",
    "    return {'polarity':polarities, 'subjectivity':subjectivities}\n",
    "\n",
    "def get_weighted_polarity_mean(valid_tweets):\n",
    "    return np.average(valid_tweets['polarity'],weights=valid_tweets['subjectivity'])\n",
    "\n",
    "def get_polarity_mean(valid_tweets):\n",
    "    return np.mean(valid_tweets['polarity'])\n",
    "\n",
    "def print_result(mean):\n",
    "    print('Média: ' + str(mean))\n",
    "    \n",
    "    if (mean > 0.0):\n",
    "        print('POSITIVE')\n",
    "    elif mean == 0.0:\n",
    "        print('NEUTRO')\n",
    "    else:\n",
    "        print('NEGATIVE')"
   ]
  },
  {
   "cell_type": "code",
   "execution_count": 42,
   "metadata": {},
   "outputs": [],
   "source": [
    "def is_english(text):\n",
    "    if text.detect_language() == 'en':\n",
    "        return True\n",
    "    return False"
   ]
  },
  {
   "cell_type": "code",
   "execution_count": 45,
   "metadata": {},
   "outputs": [
    {
     "name": "stdout",
     "output_type": "stream",
     "text": [
      "Entre a query de analise: Ciro Gomes\n",
      "Tweet: O centro foi embora pra europa junto com o ciro gomes. https://t.co/4egibWJrna\n",
      "Polarity: 0.0 \\ 0.0\n",
      ".....................\n",
      "Tweet: entende que se tu tivesse votado no ciro gomes nada disso estaria acontecendo mo 💓 a gente te falou 💓💓😔  então não… https://t.co/c31lcoSDeN\n",
      "Polarity: 0.0 \\ 0.0\n",
      ".....................\n",
      "Tweet: CAMARADAS VAMOS CONTINUAR COM OS BLOCKS.. OS FAKE NEWS ESTAO DESAPARECENDO E O COISO COMEÇA A SE DESESPERAR. VAI TE… https://t.co/ADEm5wk8SC\n",
      "Polarity: -0.5 \\ 1.0\n",
      ".....................\n",
      "Tweet: Ter que ouvir coisas do tipo “Ciro Gomes é doido, ridículo aquele cara” de um eleitor do Bolsonaro é a maior dor que vou sentir esse ano.\n",
      "Polarity: 0.0 \\ 0.0\n",
      ".....................\n",
      "Tweet: #LulaTaPresoBabaca frase do capitão de mato Cid Gomes... rompendo com o pt... não se enganem os irmãos cangaçeiros… https://t.co/mUQaAEyKRo\n",
      "Polarity: 0.0 \\ 0.0\n",
      ".....................\n",
      "Tweet: Ciro Gomes capacho do Lula até onde deu,quando viu que não recebeu apoio o irmão ficou revoltado e foi lá pra falar… https://t.co/2v0SZKrjU4\n",
      "Polarity: 0.0 \\ 0.0\n",
      ".....................\n",
      "Tweet: \"Lula tá preso babaca\"!\n",
      "Cid Gomes, irmão do Ciro Gomes (o mais preparado).\n",
      "#LulaTaPresoBabaca\n",
      "Polarity: 0.0 \\ 0.0\n",
      ".....................\n",
      "Tweet: vo senta o unfollow em quem reclama do ciro gomes\n",
      "\n",
      "fala do teu lula que sabotou toda candidatura dele só pra ser re… https://t.co/xDQKcB7eAS\n",
      "Polarity: 0.0 \\ 0.0\n",
      ".....................\n",
      "Tweet: @juliaduailibi seria possivel, o Ciro gomes no lugar do haddad?\n",
      "Polarity: 0.0 \\ 0.0\n",
      ".....................\n",
      "Tweet: Eu quero:\n",
      "Férias \n",
      "Maconha \n",
      "Ciro Gomes\n",
      "Polarity: 0.0 \\ 0.0\n",
      ".....................\n",
      "Tweet: eu considero errada a atitude do cid gomes por ter feito aquele falatório todo? sim\n",
      "\n",
      "eu julgo o ciro por se afastar… https://t.co/bGAYwJuY3a\n",
      "Polarity: 0.0 \\ 0.0\n",
      ".....................\n",
      "Tweet: Ciro Gomes disse que Haddad pode destruir o País https://t.co/rr3aweuPQh\n",
      "Polarity: 0.0 \\ 0.0\n",
      ".....................\n",
      "Tweet: \"Fernando Holiday\" Ciro Gomes manda abraços!\n",
      "Polarity: 0.0 \\ 0.0\n",
      ".....................\n",
      "Tweet: Por isso amo aquele vídeo do Ciro Gomes com o Rodrigo Constantino...\n",
      "É muito sensual a conversa neoliberaloide, e m… https://t.co/akyGdozCwS\n",
      "Polarity: 0.0 \\ 0.0\n",
      ".....................\n",
      "Tweet: Pergunta pra Cid Gomes: o q se pode esperar da sua carreira política qdo a sua revolta pelo PT não te dar os cargos… https://t.co/oXRctvzfpj\n",
      "Polarity: 0.05 \\ 1.0\n",
      ".....................\n",
      "Tweet: Cabra foi macho! \n",
      "Se correr o Ciro pega\n",
      "Se ficar o Cid Gomes. \n",
      "Huehuehue https://t.co/mwOi7EUEBd\n",
      "Polarity: 0.0 \\ 0.0\n",
      ".....................\n",
      "Tweet: @LulaOficial Independente do resultado dessas eleições, a gente não pode esquecer jamais da omissão do Ciro Gomes n… https://t.co/Fa8lgYD7hc\n",
      "Polarity: 0.0 \\ 0.0\n",
      ".....................\n",
      "Tweet: sdd ciro gomes\n",
      "Polarity: 0.0 \\ 0.0\n",
      ".....................\n",
      "Tweet: eu ja posso começar a dizer \"eu sempre soube que bao dava pra confiar em ciro gomes\" a tds os ciristas chatos q se criaram nessas eleicoes?\n",
      "Polarity: 0.0 \\ 0.0\n",
      ".....................\n",
      "Tweet: @rogeriocorrea1 Olha, eu não sou do PT, mas acredito que nesse momento o Brasil precisa sim dos eleitores do Ciro.… https://t.co/QvK9FAeRpM\n",
      "Polarity: 0.0 \\ 0.0\n",
      ".....................\n",
      "MÉDIA PONDERADA: -0.225\n",
      "Média: -0.225\n",
      "NEGATIVE\n",
      "MÉDIA: -0.225\n",
      "Média: -0.225\n",
      "NEGATIVE\n"
     ]
    }
   ],
   "source": [
    "if __name__ == \"__main__\":\n",
    "    query = input(\"Entre a query de analise: \")\n",
    "    analysis = tweets_analysis(query)\n",
    "    \n",
    "    print('MÉDIA PONDERADA: ' + str(get_weighted_polarity_mean(analysis)))\n",
    "    print_result(get_weighted_polarity_mean(analysis))\n",
    "    \n",
    "    print('MÉDIA: ' + str(get_polarity_mean(analysis)))\n",
    "    print_result(get_polarity_mean(analysis))"
   ]
  },
  {
   "cell_type": "code",
   "execution_count": null,
   "metadata": {},
   "outputs": [],
   "source": []
  }
 ],
 "metadata": {
  "kernelspec": {
   "display_name": "Python 3",
   "language": "python",
   "name": "python3"
  },
  "language_info": {
   "codemirror_mode": {
    "name": "ipython",
    "version": 3
   },
   "file_extension": ".py",
   "mimetype": "text/x-python",
   "name": "python",
   "nbconvert_exporter": "python",
   "pygments_lexer": "ipython3",
   "version": "3.6.5"
  }
 },
 "nbformat": 4,
 "nbformat_minor": 2
}
